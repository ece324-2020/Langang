{
 "cells": [
  {
   "cell_type": "code",
   "execution_count": 1,
   "metadata": {},
   "outputs": [],
   "source": [
    "import numpy as np\n",
    "import matplotlib.pyplot as plt\n",
    "import torch\n",
    "import torchvision\n",
    "import torchvision.transforms as transforms\n",
    "import glob\n",
    "from sklearn.model_selection import train_test_split\n",
    "import torch.nn as nn\n",
    "import torch.nn.functional as F\n",
    "from time import time\n",
    "from torchsummary import summary\n",
    "import math\n",
    "import copy\n",
    "import csv"
   ]
  },
  {
   "cell_type": "code",
   "execution_count": 2,
   "metadata": {},
   "outputs": [
    {
     "data": {
      "text/plain": [
       "<torch._C.Generator at 0x23ee300fcf0>"
      ]
     },
     "execution_count": 2,
     "metadata": {},
     "output_type": "execute_result"
    }
   ],
   "source": [
    "lr = 0.001\n",
    "numepoch = 50\n",
    "seed = 0\n",
    "optimizer = torch.optim.Adam\n",
    "loss_function = nn.CrossEntropyLoss()\n",
    "batch_size = 20\n",
    "kernel_size = 5\n",
    "\n",
    "num_kernel1 = 60\n",
    "num_kernel2 = 30\n",
    "first_layer_neurons = 500\n",
    "second_layer_neurons = 150\n",
    "\n",
    "torch.manual_seed(seed)"
   ]
  },
  {
   "cell_type": "code",
   "execution_count": 3,
   "metadata": {},
   "outputs": [],
   "source": [
    "classes = ('English', 'Mandarin', 'Persian')\n",
    "\n",
    "# Get dataset\n",
    "train_data = torchvision.datasets.ImageFolder(root=\"./train/\", transform=transforms.ToTensor())\n",
    "valid_data = torchvision.datasets.ImageFolder(root=\"./valid/\", transform=transforms.ToTensor())\n",
    "test_data = torchvision.datasets.ImageFolder(root=\"./test/\", transform=transforms.ToTensor())"
   ]
  },
  {
   "cell_type": "code",
   "execution_count": 4,
   "metadata": {},
   "outputs": [],
   "source": [
    "class Net(nn.Module):\n",
    "    \n",
    "    def __init__(self, num_kernel1, num_kernel2, kernel_size, first_layer_neurons, second_layer_neurons):\n",
    "        super(Net, self).__init__()\n",
    "        self.conv1 = nn.Conv2d(3, num_kernel1, kernel_size = kernel_size)\n",
    "        self.conv2 = nn.Conv2d(num_kernel1, num_kernel2, kernel_size = kernel_size)\n",
    "\n",
    "        self.pool = nn.MaxPool2d(2,2)\n",
    "        self.drop_out = nn.Dropout()\n",
    "        \n",
    "        self.img_size = [64,108]\n",
    "        self.img_width = int((int((108 - kernel_size + 1)/2) - kernel_size + 1)/2)\n",
    "        self.img_height = int((int((64 - kernel_size + 1)/2) - kernel_size + 1)/2)\n",
    "        \n",
    "        self.fc1 = nn.Linear(num_kernel2*self.img_height*self.img_width, first_layer_neurons)\n",
    "        self.fc2 = nn.Linear(first_layer_neurons, second_layer_neurons)\n",
    "        self.fc3 = nn.Linear(second_layer_neurons, 3)\n",
    "        self.fc1_BN = nn.BatchNorm1d(first_layer_neurons)\n",
    "        self.fc2_BN = nn.BatchNorm1d(second_layer_neurons)\n",
    "        \n",
    "    def forward(self, x):\n",
    "        x = self.pool(F.relu(self.conv1(x)))\n",
    "        x = self.pool(F.relu(self.conv2(x)))\n",
    "        \n",
    "        x = x.view(-1,num_kernel2*self.img_width*self.img_height)\n",
    "        x = self.drop_out(x)\n",
    "        \n",
    "        x = F.relu(self.fc1_BN(self.fc1(x)))\n",
    "        x = F.relu(self.fc2_BN(self.fc2(x)))\n",
    "        x = self.fc3(x)\n",
    "        #x = F.softmax(x,dim=1)\n",
    "        return x\n",
    "\n",
    "#one hot encoding for label vector, used for MSELoss\n",
    "def onehot(labels):\n",
    "    one_hot_labels = np.zeros((len(labels),3))\n",
    "    for i in range(len(labels)):\n",
    "        one_hot_labels[i][labels[i]] = 1\n",
    "    return torch.from_numpy(one_hot_labels)\n",
    "\n",
    "#compute accuracy of the given model on data in loader\n",
    "def accuracy(net, loader):\n",
    "    correct = 0\n",
    "    total = 0\n",
    "    with torch.no_grad():\n",
    "        for data in loader:\n",
    "            images, labels = data\n",
    "            outputs = net(images)\n",
    "            _, predicted = torch.max(outputs.data, 1)\n",
    "            total += labels.size(0)\n",
    "            correct += (predicted == labels).sum().item()\n",
    "    return correct/total"
   ]
  },
  {
   "cell_type": "code",
   "execution_count": 5,
   "metadata": {},
   "outputs": [],
   "source": [
    "train_loader = torch.utils.data.DataLoader(train_data, batch_size=batch_size, shuffle=True)\n",
    "valid_loader = torch.utils.data.DataLoader(valid_data, batch_size=batch_size)\n",
    "test_loader = torch.utils.data.DataLoader(test_data, batch_size=batch_size)"
   ]
  },
  {
   "cell_type": "code",
   "execution_count": 6,
   "metadata": {},
   "outputs": [
    {
     "name": "stderr",
     "output_type": "stream",
     "text": [
      "C:\\Users\\Maxx\\anaconda3\\envs\\ece324\\lib\\site-packages\\torch\\autograd\\__init__.py:130: UserWarning: CUDA initialization: Found no NVIDIA driver on your system. Please check that you have an NVIDIA GPU and installed a driver from http://www.nvidia.com/Download/index.aspx (Triggered internally at  ..\\c10\\cuda\\CUDAFunctions.cpp:100.)\n",
      "  Variable._execution_engine.run_backward(\n"
     ]
    },
    {
     "name": "stdout",
     "output_type": "stream",
     "text": [
      "Epoch: 1 Training Accuracy: 0.5166666666666667 Validation Accuracy: 0.5766666666666667\n",
      "Epoch: 2 Training Accuracy: 0.6666666666666666 Validation Accuracy: 0.7133333333333334\n",
      "Epoch: 3 Training Accuracy: 0.7611111111111111 Validation Accuracy: 0.7933333333333333\n",
      "Epoch: 4 Training Accuracy: 0.8144444444444444 Validation Accuracy: 0.8133333333333334\n",
      "Epoch: 5 Training Accuracy: 0.8311111111111111 Validation Accuracy: 0.86\n",
      "Epoch: 6 Training Accuracy: 0.8322222222222222 Validation Accuracy: 0.8466666666666667\n",
      "Epoch: 7 Training Accuracy: 0.8944444444444445 Validation Accuracy: 0.88\n",
      "Epoch: 8 Training Accuracy: 0.8911111111111111 Validation Accuracy: 0.91\n",
      "Epoch: 9 Training Accuracy: 0.9122222222222223 Validation Accuracy: 0.9\n",
      "Epoch: 10 Training Accuracy: 0.9166666666666666 Validation Accuracy: 0.89\n",
      "Epoch: 11 Training Accuracy: 0.93 Validation Accuracy: 0.9166666666666666\n",
      "Epoch: 12 Training Accuracy: 0.9333333333333333 Validation Accuracy: 0.89\n",
      "Epoch: 13 Training Accuracy: 0.9266666666666666 Validation Accuracy: 0.91\n",
      "Epoch: 14 Training Accuracy: 0.96 Validation Accuracy: 0.9233333333333333\n",
      "Epoch: 15 Training Accuracy: 0.9533333333333334 Validation Accuracy: 0.9033333333333333\n",
      "Epoch: 16 Training Accuracy: 0.9455555555555556 Validation Accuracy: 0.9233333333333333\n",
      "Epoch: 17 Training Accuracy: 0.9644444444444444 Validation Accuracy: 0.8966666666666666\n",
      "Epoch: 18 Training Accuracy: 0.9611111111111111 Validation Accuracy: 0.92\n",
      "Epoch: 19 Training Accuracy: 0.9555555555555556 Validation Accuracy: 0.9266666666666666\n",
      "Epoch: 20 Training Accuracy: 0.9666666666666667 Validation Accuracy: 0.9366666666666666\n",
      "Epoch: 21 Training Accuracy: 0.96 Validation Accuracy: 0.9166666666666666\n",
      "Epoch: 22 Training Accuracy: 0.9833333333333333 Validation Accuracy: 0.9333333333333333\n",
      "Epoch: 23 Training Accuracy: 0.9777777777777777 Validation Accuracy: 0.9266666666666666\n",
      "Epoch: 24 Training Accuracy: 0.9911111111111112 Validation Accuracy: 0.9233333333333333\n",
      "Epoch: 25 Training Accuracy: 0.9722222222222222 Validation Accuracy: 0.9\n",
      "Epoch: 26 Training Accuracy: 0.9655555555555555 Validation Accuracy: 0.9133333333333333\n",
      "Epoch: 27 Training Accuracy: 0.9888888888888889 Validation Accuracy: 0.9266666666666666\n",
      "Epoch: 28 Training Accuracy: 0.9788888888888889 Validation Accuracy: 0.9266666666666666\n",
      "Epoch: 29 Training Accuracy: 0.9577777777777777 Validation Accuracy: 0.9066666666666666\n",
      "Epoch: 30 Training Accuracy: 0.9933333333333333 Validation Accuracy: 0.9066666666666666\n",
      "Epoch: 31 Training Accuracy: 0.9655555555555555 Validation Accuracy: 0.9166666666666666\n",
      "Epoch: 32 Training Accuracy: 0.9822222222222222 Validation Accuracy: 0.91\n",
      "Epoch: 33 Training Accuracy: 0.9844444444444445 Validation Accuracy: 0.9233333333333333\n",
      "Epoch: 34 Training Accuracy: 0.9833333333333333 Validation Accuracy: 0.9\n",
      "Epoch: 35 Training Accuracy: 0.9822222222222222 Validation Accuracy: 0.93\n",
      "Epoch: 36 Training Accuracy: 0.9911111111111112 Validation Accuracy: 0.93\n",
      "Epoch: 37 Training Accuracy: 0.9911111111111112 Validation Accuracy: 0.91\n",
      "Epoch: 38 Training Accuracy: 0.9911111111111112 Validation Accuracy: 0.94\n",
      "Epoch: 39 Training Accuracy: 0.9788888888888889 Validation Accuracy: 0.92\n",
      "Epoch: 40 Training Accuracy: 0.9822222222222222 Validation Accuracy: 0.9133333333333333\n",
      "Epoch: 41 Training Accuracy: 0.9833333333333333 Validation Accuracy: 0.9033333333333333\n",
      "Epoch: 42 Training Accuracy: 0.9822222222222222 Validation Accuracy: 0.93\n",
      "Epoch: 43 Training Accuracy: 0.9888888888888889 Validation Accuracy: 0.93\n",
      "Epoch: 44 Training Accuracy: 0.9833333333333333 Validation Accuracy: 0.8966666666666666\n",
      "Epoch: 45 Training Accuracy: 0.9922222222222222 Validation Accuracy: 0.9533333333333334\n",
      "Epoch: 46 Training Accuracy: 0.9911111111111112 Validation Accuracy: 0.94\n",
      "Epoch: 47 Training Accuracy: 0.9888888888888889 Validation Accuracy: 0.92\n",
      "Epoch: 48 Training Accuracy: 0.9911111111111112 Validation Accuracy: 0.93\n",
      "Epoch: 49 Training Accuracy: 0.9888888888888889 Validation Accuracy: 0.9166666666666666\n",
      "Epoch: 50 Training Accuracy: 0.9911111111111112 Validation Accuracy: 0.9166666666666666\n",
      "Training Time: 772.0890953540802\n"
     ]
    }
   ],
   "source": [
    "net = Net(num_kernel1, num_kernel2, kernel_size, first_layer_neurons, second_layer_neurons)\n",
    "optimizer = torch.optim.Adam(net.parameters(),lr)\n",
    "trainLossRec = []\n",
    "validLossRec = []\n",
    "testLossRec = []\n",
    "trainAccRec = []\n",
    "validAccRec = []\n",
    "testAccRec = []\n",
    "nRec = []\n",
    "startTime = time()\n",
    "best_accuV = 0\n",
    "\n",
    "for epoch in range(numepoch):\n",
    "    running_loss = 0.0\n",
    "    numbatch = 0\n",
    "    net.train()\n",
    "    for i, train_data in enumerate(train_loader, 0):\n",
    "        inputs, labels = train_data\n",
    "        optimizer.zero_grad()\n",
    "        predictT = net(inputs.float())\n",
    "        #lossT= loss_function(input=predictT.squeeze(), target=onehot(labels).float()) #MSE\n",
    "        lossT= loss_function(predictT, labels) #CrossEntropy\n",
    "        lossT.backward()\n",
    "        optimizer.step()\n",
    "        running_loss += lossT.item()\n",
    "        numbatch += 1\n",
    "    trainLossRec.append(running_loss/numbatch)\n",
    "    accuT = accuracy(net,train_loader)\n",
    "    trainAccRec.append(accuT)\n",
    "\n",
    "    running_loss = 0.0\n",
    "    numbatch = 0\n",
    "    net.eval()\n",
    "    for i, valid_data in enumerate(valid_loader):\n",
    "        inputs, labels = valid_data\n",
    "        predictV = net(inputs.float())\n",
    "        #lossV = loss_function(input=predictV.squeeze(), target=onehot(labels).float()) #MSE\n",
    "        lossV= loss_function(predictV, labels) #CrossEntropy\n",
    "        running_loss += lossV.item()\n",
    "        numbatch += 1\n",
    "    validLossRec.append(running_loss/numbatch)\n",
    "    accuV = accuracy(net,valid_loader)\n",
    "    validAccRec.append(accuV)\n",
    "\n",
    "    if (accuV > best_accuV):\n",
    "        best_accuV = accuV\n",
    "        best_model_weights = copy.deepcopy(net.state_dict())\n",
    "\n",
    "    nRec.append(epoch)\n",
    "    print(\"Epoch:\",nRec[-1]+1,\"Training Accuracy:\",accuT,\"Validation Accuracy:\",accuV)\n",
    "\n",
    "timeElapsed = time()-startTime\n",
    "print('Training Time:',timeElapsed)"
   ]
  },
  {
   "cell_type": "code",
   "execution_count": 7,
   "metadata": {},
   "outputs": [
    {
     "data": {
      "image/png": "[encoded data removed]",
      "text/plain": [
       "<Figure size 432x288 with 1 Axes>"
      ]
     },
     "metadata": {
      "needs_background": "light"
     },
     "output_type": "display_data"
    },
    {
     "data": {
      "image/png": "[encoded data removed]",
      "text/plain": [
       "<Figure size 432x288 with 1 Axes>"
      ]
     },
     "metadata": {
      "needs_background": "light"
     },
     "output_type": "display_data"
    }
   ],
   "source": [
    "# PLOT\n",
    "plt.plot(nRec,trainLossRec, label='Train')\n",
    "plt.plot(nRec,validLossRec, label='Validation')\n",
    "plt.title(\"Loss vs. Epoch\")\n",
    "plt.xlabel(\"Epoch\")\n",
    "plt.ylabel(\"Loss\")\n",
    "plt.legend()\n",
    "plt.show()\n",
    "\n",
    "plt.plot(nRec,trainAccRec, label='Train')\n",
    "plt.plot(nRec,validAccRec, label='Validation')\n",
    "plt.title(\"Accuracy vs. Epoch\")\n",
    "plt.xlabel(\"Epoch\")\n",
    "plt.ylabel(\"Accuracy\")\n",
    "plt.legend()\n",
    "plt.show()"
   ]
  },
  {
   "cell_type": "code",
   "execution_count": 8,
   "metadata": {},
   "outputs": [
    {
     "name": "stdout",
     "output_type": "stream",
     "text": [
      "Best CNN Model\n",
      "Training Accuracy:  1.0\n",
      "Validation Accuracy:  0.9533333333333334\n",
      "Test Accuracy:  0.9133333333333333\n"
     ]
    }
   ],
   "source": [
    "print(\"Best CNN Model\")\n",
    "net.load_state_dict(best_model_weights)\n",
    "print(\"Training Accuracy: \", accuracy(net, train_loader))\n",
    "print(\"Validation Accuracy: \", accuracy(net, valid_loader))\n",
    "print(\"Test Accuracy: \", accuracy(net, test_loader))"
   ]
  },
  {
   "cell_type": "code",
   "execution_count": 9,
   "metadata": {},
   "outputs": [],
   "source": [
    "torch.save(net.state_dict(), 'Best_CNN_Model.pt')"
   ]
  }
 ],
 "metadata": {
  "kernelspec": {
   "display_name": "Python 3",
   "language": "python",
   "name": "python3"
  },
  "language_info": {
   "codemirror_mode": {
    "name": "ipython",
    "version": 3
   },
   "file_extension": ".py",
   "mimetype": "text/x-python",
   "name": "python",
   "nbconvert_exporter": "python",
   "pygments_lexer": "ipython3",
   "version": "3.8.3"
  }
 },
 "nbformat": 4,
 "nbformat_minor": 4
}
