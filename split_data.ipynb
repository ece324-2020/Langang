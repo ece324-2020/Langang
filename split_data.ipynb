{
 "cells": [
  {
   "cell_type": "code",
   "execution_count": 1,
   "metadata": {},
   "outputs": [],
   "source": [
    "import os\n",
    "from PIL import Image\n",
    "from sklearn.model_selection import train_test_split"
   ]
  },
  {
   "cell_type": "code",
   "execution_count": 2,
   "metadata": {},
   "outputs": [],
   "source": [
    "train_validtest = 0.4\n",
    "valid_test = 0.5\n",
    "seed = 0"
   ]
  },
  {
   "cell_type": "code",
   "execution_count": 3,
   "metadata": {},
   "outputs": [],
   "source": [
    "English = []\n",
    "Mandarin = []\n",
    "Persian = []\n",
    "\n",
    "for filename in os.listdir(r\".\\Spectrogram\\English\"):\n",
    "    English += [[Image.open(r\".\\Spectrogram\\English\\\\\"+filename),filename]]\n",
    "for filename in os.listdir(r\".\\Spectrogram\\Mandarin\"):\n",
    "    Mandarin += [[Image.open(r\".\\Spectrogram\\Mandarin\\\\\"+filename),filename]]\n",
    "for filename in os.listdir(r\".\\Spectrogram\\Persian\"):\n",
    "    Persian += [[Image.open(r\".\\Spectrogram\\Persian\\\\\"+filename), filename]]\n",
    "    \n",
    "train_Eng, validtest_Eng = train_test_split(English, test_size = train_validtest, random_state = seed)\n",
    "valid_Eng, test_Eng = train_test_split(validtest_Eng, test_size = valid_test, random_state = seed)\n",
    "\n",
    "train_Man, validtest_Man = train_test_split(Mandarin, test_size = train_validtest, random_state = seed)\n",
    "valid_Man, test_Man = train_test_split(validtest_Man, test_size = valid_test, random_state = seed)\n",
    "\n",
    "train_Per, validtest_Per = train_test_split(Persian, test_size = train_validtest, random_state = seed)\n",
    "valid_Per, test_Per = train_test_split(validtest_Per, test_size = valid_test, random_state = seed)"
   ]
  },
  {
   "cell_type": "code",
   "execution_count": 4,
   "metadata": {},
   "outputs": [
    {
     "name": "stdout",
     "output_type": "stream",
     "text": [
      "English\n",
      "train:  300\n",
      "validation:  100\n",
      "test:  100\n",
      "\n",
      "Mandarin\n",
      "train:  300\n",
      "validation:  100\n",
      "test:  100\n",
      "\n",
      "Persian\n",
      "train:  300\n",
      "validation:  100\n",
      "test:  100\n"
     ]
    }
   ],
   "source": [
    "print(\"English\")\n",
    "print(\"train: \", len(train_Eng))\n",
    "print(\"validation: \", len(valid_Eng))\n",
    "print(\"test: \", len(test_Eng))\n",
    "\n",
    "print(\"\\nMandarin\")\n",
    "print(\"train: \", len(train_Man))\n",
    "print(\"validation: \", len(valid_Man))\n",
    "print(\"test: \", len(test_Man))\n",
    "\n",
    "print(\"\\nPersian\")\n",
    "print(\"train: \", len(train_Per))\n",
    "print(\"validation: \", len(valid_Per))\n",
    "print(\"test: \", len(test_Per))"
   ]
  },
  {
   "cell_type": "code",
   "execution_count": 5,
   "metadata": {},
   "outputs": [],
   "source": [
    "for image in train_Eng:\n",
    "    image[0].save(r\".\\train\\English\\\\\"+image[1])\n",
    "for image in train_Man:\n",
    "    image[0].save(r\".\\train\\Mandarin\\\\\"+image[1])\n",
    "for image in train_Per:\n",
    "    image[0].save(r\".\\train\\Persian\\\\\"+image[1])\n",
    "    \n",
    "for image in valid_Eng:\n",
    "    image[0].save(r\".\\valid\\English\\\\\"+image[1])\n",
    "for image in valid_Man:\n",
    "    image[0].save(r\".\\valid\\Mandarin\\\\\"+image[1])\n",
    "for image in valid_Per:\n",
    "    image[0].save(r\".\\valid\\Persian\\\\\"+image[1])\n",
    "    \n",
    "for image in test_Eng:\n",
    "    image[0].save(r\".\\test\\English\\\\\"+image[1])\n",
    "for image in test_Man:\n",
    "    image[0].save(r\".\\test\\Mandarin\\\\\"+image[1])\n",
    "for image in test_Per:\n",
    "    image[0].save(r\".\\test\\Persian\\\\\"+image[1])"
   ]
  },
  {
   "cell_type": "code",
   "execution_count": null,
   "metadata": {},
   "outputs": [],
   "source": []
  }
 ],
 "metadata": {
  "kernelspec": {
   "display_name": "Python 3",
   "language": "python",
   "name": "python3"
  },
  "language_info": {
   "codemirror_mode": {
    "name": "ipython",
    "version": 3
   },
   "file_extension": ".py",
   "mimetype": "text/x-python",
   "name": "python",
   "nbconvert_exporter": "python",
   "pygments_lexer": "ipython3",
   "version": "3.8.3"
  }
 },
 "nbformat": 4,
 "nbformat_minor": 4
}
